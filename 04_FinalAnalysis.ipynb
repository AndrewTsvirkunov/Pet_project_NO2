{
 "cells": [
  {
   "cell_type": "code",
   "execution_count": 2,
   "id": "19f2465f",
   "metadata": {},
   "outputs": [],
   "source": [
    "import pandas as pd\n",
    "import seaborn as sns\n",
    "\n",
    "import pickle\n",
    "\n",
    "from sklearn.inspection import permutation_importance\n",
    "\n",
    "RAND = 10\n",
    "N_REPEATS = 3"
   ]
  },
  {
   "cell_type": "code",
   "execution_count": 3,
   "id": "225640b8",
   "metadata": {},
   "outputs": [],
   "source": [
    "metrics = pd.read_csv(r'C:\\Users\\main6\\OneDrive\\Документы\\jupyter\\Pet_pro\\data\\final_metrics.csv')"
   ]
  },
  {
   "cell_type": "code",
   "execution_count": 4,
   "id": "4dba1988",
   "metadata": {},
   "outputs": [
    {
     "data": {
      "text/html": [
       "<style type=\"text/css\">\n",
       "#T_23709_row0_col5, #T_23709_row0_col6, #T_23709_row1_col5, #T_23709_row1_col6, #T_23709_row2_col5, #T_23709_row2_col6, #T_23709_row3_col5, #T_23709_row3_col6, #T_23709_row4_col5, #T_23709_row4_col6, #T_23709_row5_col3, #T_23709_row5_col5, #T_23709_row5_col6, #T_23709_row6_col0, #T_23709_row6_col5, #T_23709_row6_col6, #T_23709_row6_col7, #T_23709_row7_col1, #T_23709_row7_col2, #T_23709_row7_col5, #T_23709_row7_col6, #T_23709_row8_col4, #T_23709_row8_col5, #T_23709_row8_col6 {\n",
       "  background-color: lightpink;\n",
       "}\n",
       "</style>\n",
       "<table id=\"T_23709\">\n",
       "  <thead>\n",
       "    <tr>\n",
       "      <th class=\"blank level0\" >&nbsp;</th>\n",
       "      <th id=\"T_23709_level0_col0\" class=\"col_heading level0 col0\" >MAE</th>\n",
       "      <th id=\"T_23709_level0_col1\" class=\"col_heading level0 col1\" >MSE</th>\n",
       "      <th id=\"T_23709_level0_col2\" class=\"col_heading level0 col2\" >RMSE</th>\n",
       "      <th id=\"T_23709_level0_col3\" class=\"col_heading level0 col3\" >RMSLE</th>\n",
       "      <th id=\"T_23709_level0_col4\" class=\"col_heading level0 col4\" >R2 adjusted</th>\n",
       "      <th id=\"T_23709_level0_col5\" class=\"col_heading level0 col5\" >MPE_%</th>\n",
       "      <th id=\"T_23709_level0_col6\" class=\"col_heading level0 col6\" >MAPE_%</th>\n",
       "      <th id=\"T_23709_level0_col7\" class=\"col_heading level0 col7\" >WAPE_%</th>\n",
       "    </tr>\n",
       "    <tr>\n",
       "      <th class=\"index_name level0\" >model</th>\n",
       "      <th class=\"blank col0\" >&nbsp;</th>\n",
       "      <th class=\"blank col1\" >&nbsp;</th>\n",
       "      <th class=\"blank col2\" >&nbsp;</th>\n",
       "      <th class=\"blank col3\" >&nbsp;</th>\n",
       "      <th class=\"blank col4\" >&nbsp;</th>\n",
       "      <th class=\"blank col5\" >&nbsp;</th>\n",
       "      <th class=\"blank col6\" >&nbsp;</th>\n",
       "      <th class=\"blank col7\" >&nbsp;</th>\n",
       "    </tr>\n",
       "  </thead>\n",
       "  <tbody>\n",
       "    <tr>\n",
       "      <th id=\"T_23709_level0_row0\" class=\"row_heading level0 row0\" >LinearRegression_baseline</th>\n",
       "      <td id=\"T_23709_row0_col0\" class=\"data row0 col0\" >8.347072</td>\n",
       "      <td id=\"T_23709_row0_col1\" class=\"data row0 col1\" >156.858720</td>\n",
       "      <td id=\"T_23709_row0_col2\" class=\"data row0 col2\" >12.524325</td>\n",
       "      <td id=\"T_23709_row0_col3\" class=\"data row0 col3\" >0.455343</td>\n",
       "      <td id=\"T_23709_row0_col4\" class=\"data row0 col4\" >0.451267</td>\n",
       "      <td id=\"T_23709_row0_col5\" class=\"data row0 col5\" >-inf</td>\n",
       "      <td id=\"T_23709_row0_col6\" class=\"data row0 col6\" >inf</td>\n",
       "      <td id=\"T_23709_row0_col7\" class=\"data row0 col7\" >34.324438</td>\n",
       "    </tr>\n",
       "    <tr>\n",
       "      <th id=\"T_23709_level0_row1\" class=\"row_heading level0 row1\" >DecisonTreeRegressor_baseline</th>\n",
       "      <td id=\"T_23709_row1_col0\" class=\"data row1 col0\" >10.133774</td>\n",
       "      <td id=\"T_23709_row1_col1\" class=\"data row1 col1\" >228.179589</td>\n",
       "      <td id=\"T_23709_row1_col2\" class=\"data row1 col2\" >15.105614</td>\n",
       "      <td id=\"T_23709_row1_col3\" class=\"data row1 col3\" >0.607437</td>\n",
       "      <td id=\"T_23709_row1_col4\" class=\"data row1 col4\" >0.201768</td>\n",
       "      <td id=\"T_23709_row1_col5\" class=\"data row1 col5\" >-inf</td>\n",
       "      <td id=\"T_23709_row1_col6\" class=\"data row1 col6\" >inf</td>\n",
       "      <td id=\"T_23709_row1_col7\" class=\"data row1 col7\" >41.671629</td>\n",
       "    </tr>\n",
       "    <tr>\n",
       "      <th id=\"T_23709_level0_row2\" class=\"row_heading level0 row2\" >RandomForestRegressor_baseline</th>\n",
       "      <td id=\"T_23709_row2_col0\" class=\"data row2 col0\" >8.258138</td>\n",
       "      <td id=\"T_23709_row2_col1\" class=\"data row2 col1\" >176.019952</td>\n",
       "      <td id=\"T_23709_row2_col2\" class=\"data row2 col2\" >13.267251</td>\n",
       "      <td id=\"T_23709_row2_col3\" class=\"data row2 col3\" >0.476677</td>\n",
       "      <td id=\"T_23709_row2_col4\" class=\"data row2 col4\" >0.384236</td>\n",
       "      <td id=\"T_23709_row2_col5\" class=\"data row2 col5\" >-inf</td>\n",
       "      <td id=\"T_23709_row2_col6\" class=\"data row2 col6\" >inf</td>\n",
       "      <td id=\"T_23709_row2_col7\" class=\"data row2 col7\" >33.958726</td>\n",
       "    </tr>\n",
       "    <tr>\n",
       "      <th id=\"T_23709_level0_row3\" class=\"row_heading level0 row3\" >XGBoost_baseline</th>\n",
       "      <td id=\"T_23709_row3_col0\" class=\"data row3 col0\" >7.173608</td>\n",
       "      <td id=\"T_23709_row3_col1\" class=\"data row3 col1\" >121.679612</td>\n",
       "      <td id=\"T_23709_row3_col2\" class=\"data row3 col2\" >11.030848</td>\n",
       "      <td id=\"T_23709_row3_col3\" class=\"data row3 col3\" >0.398242</td>\n",
       "      <td id=\"T_23709_row3_col4\" class=\"data row3 col4\" >0.574333</td>\n",
       "      <td id=\"T_23709_row3_col5\" class=\"data row3 col5\" >-inf</td>\n",
       "      <td id=\"T_23709_row3_col6\" class=\"data row3 col6\" >inf</td>\n",
       "      <td id=\"T_23709_row3_col7\" class=\"data row3 col7\" >29.498972</td>\n",
       "    </tr>\n",
       "    <tr>\n",
       "      <th id=\"T_23709_level0_row4\" class=\"row_heading level0 row4\" >LightGBM_baseline</th>\n",
       "      <td id=\"T_23709_row4_col0\" class=\"data row4 col0\" >7.120787</td>\n",
       "      <td id=\"T_23709_row4_col1\" class=\"data row4 col1\" >122.711309</td>\n",
       "      <td id=\"T_23709_row4_col2\" class=\"data row4 col2\" >11.077514</td>\n",
       "      <td id=\"T_23709_row4_col3\" class=\"data row4 col3\" >0.393043</td>\n",
       "      <td id=\"T_23709_row4_col4\" class=\"data row4 col4\" >0.573203</td>\n",
       "      <td id=\"T_23709_row4_col5\" class=\"data row4 col5\" >-inf</td>\n",
       "      <td id=\"T_23709_row4_col6\" class=\"data row4 col6\" >inf</td>\n",
       "      <td id=\"T_23709_row4_col7\" class=\"data row4 col7\" >29.304653</td>\n",
       "    </tr>\n",
       "    <tr>\n",
       "      <th id=\"T_23709_level0_row5\" class=\"row_heading level0 row5\" >CatBoost_baseline</th>\n",
       "      <td id=\"T_23709_row5_col0\" class=\"data row5 col0\" >6.453979</td>\n",
       "      <td id=\"T_23709_row5_col1\" class=\"data row5 col1\" >99.260909</td>\n",
       "      <td id=\"T_23709_row5_col2\" class=\"data row5 col2\" >9.962977</td>\n",
       "      <td id=\"T_23709_row5_col3\" class=\"data row5 col3\" >0.359331</td>\n",
       "      <td id=\"T_23709_row5_col4\" class=\"data row5 col4\" >0.654765</td>\n",
       "      <td id=\"T_23709_row5_col5\" class=\"data row5 col5\" >-inf</td>\n",
       "      <td id=\"T_23709_row5_col6\" class=\"data row5 col6\" >inf</td>\n",
       "      <td id=\"T_23709_row5_col7\" class=\"data row5 col7\" >26.560497</td>\n",
       "    </tr>\n",
       "    <tr>\n",
       "      <th id=\"T_23709_level0_row6\" class=\"row_heading level0 row6\" >LightGBM_Optuna</th>\n",
       "      <td id=\"T_23709_row6_col0\" class=\"data row6 col0\" >6.443470</td>\n",
       "      <td id=\"T_23709_row6_col1\" class=\"data row6 col1\" >102.503548</td>\n",
       "      <td id=\"T_23709_row6_col2\" class=\"data row6 col2\" >10.124404</td>\n",
       "      <td id=\"T_23709_row6_col3\" class=\"data row6 col3\" >0.364783</td>\n",
       "      <td id=\"T_23709_row6_col4\" class=\"data row6 col4\" >0.643487</td>\n",
       "      <td id=\"T_23709_row6_col5\" class=\"data row6 col5\" >-inf</td>\n",
       "      <td id=\"T_23709_row6_col6\" class=\"data row6 col6\" >inf</td>\n",
       "      <td id=\"T_23709_row6_col7\" class=\"data row6 col7\" >26.517247</td>\n",
       "    </tr>\n",
       "    <tr>\n",
       "      <th id=\"T_23709_level0_row7\" class=\"row_heading level0 row7\" >CatBoost_Optuna</th>\n",
       "      <td id=\"T_23709_row7_col0\" class=\"data row7 col0\" >6.445009</td>\n",
       "      <td id=\"T_23709_row7_col1\" class=\"data row7 col1\" >97.164593</td>\n",
       "      <td id=\"T_23709_row7_col2\" class=\"data row7 col2\" >9.857210</td>\n",
       "      <td id=\"T_23709_row7_col3\" class=\"data row7 col3\" >0.366083</td>\n",
       "      <td id=\"T_23709_row7_col4\" class=\"data row7 col4\" >0.662056</td>\n",
       "      <td id=\"T_23709_row7_col5\" class=\"data row7 col5\" >-inf</td>\n",
       "      <td id=\"T_23709_row7_col6\" class=\"data row7 col6\" >inf</td>\n",
       "      <td id=\"T_23709_row7_col7\" class=\"data row7 col7\" >26.523582</td>\n",
       "    </tr>\n",
       "    <tr>\n",
       "      <th id=\"T_23709_level0_row8\" class=\"row_heading level0 row8\" >Stacking_hand_tune</th>\n",
       "      <td id=\"T_23709_row8_col0\" class=\"data row8 col0\" >12.107403</td>\n",
       "      <td id=\"T_23709_row8_col1\" class=\"data row8 col1\" >310.438572</td>\n",
       "      <td id=\"T_23709_row8_col2\" class=\"data row8 col2\" >17.619267</td>\n",
       "      <td id=\"T_23709_row8_col3\" class=\"data row8 col3\" >0.653396</td>\n",
       "      <td id=\"T_23709_row8_col4\" class=\"data row8 col4\" >-0.079723</td>\n",
       "      <td id=\"T_23709_row8_col5\" class=\"data row8 col5\" >-inf</td>\n",
       "      <td id=\"T_23709_row8_col6\" class=\"data row8 col6\" >inf</td>\n",
       "      <td id=\"T_23709_row8_col7\" class=\"data row8 col7\" >49.826410</td>\n",
       "    </tr>\n",
       "  </tbody>\n",
       "</table>\n"
      ],
      "text/plain": [
       "<pandas.io.formats.style.Styler at 0x1f5888843a0>"
      ]
     },
     "execution_count": 4,
     "metadata": {},
     "output_type": "execute_result"
    }
   ],
   "source": [
    "# загрузим итоговую таблицу с метриками\n",
    "metrics.set_index('model').style.highlight_min(axis=0, color='lightpink')"
   ]
  },
  {
   "cell_type": "markdown",
   "id": "f24d1d2a",
   "metadata": {},
   "source": [
    "- боллее предпочтительная метрика MAE самая низкая в LightGBM после тюнинга\n",
    "- значение RMSE, учитываемое по условию соревнования в CatBoost после преобразования Optuna"
   ]
  },
  {
   "cell_type": "markdown",
   "id": "6b35ed4e",
   "metadata": {},
   "source": [
    "Проанализируем важные признаки для наиболее успешных в данной задаче моделей (LGBM, CatBoost):"
   ]
  },
  {
   "cell_type": "code",
   "execution_count": 5,
   "id": "fc99bcae",
   "metadata": {},
   "outputs": [],
   "source": [
    "# загрузим переменные для анализа \n",
    "with open(r'C:\\Users\\main6\\OneDrive\\Документы\\jupyter\\Pet_pro\\models\\test_ct.pkl', \n",
    "          'rb') as f:\n",
    "    X_test_ct, y_test_ct = pickle.load(f)\n",
    "    \n",
    "with open(r'C:\\Users\\main6\\OneDrive\\Документы\\jupyter\\Pet_pro\\models\\models.pkl',\n",
    "          'rb') as f:\n",
    "    lgbm_opt, cb_opt = pickle.load(f)"
   ]
  },
  {
   "cell_type": "code",
   "execution_count": 6,
   "id": "fd63df87",
   "metadata": {},
   "outputs": [],
   "source": [
    "perm_lgbm = permutation_importance(lgbm_opt,\n",
    "                                   X_test_ct,\n",
    "                                   y_test_ct,\n",
    "                                   random_state=RAND,\n",
    "                                   n_repeats=N_REPEATS)\n",
    "\n",
    "perm_df = pd.DataFrame({\n",
    "    'feature': list(X_test_ct.columns),\n",
    "    'value': perm_lgbm['importances_mean']\n",
    "}).sort_values(by='value', ascending=False)"
   ]
  },
  {
   "cell_type": "code",
   "execution_count": 7,
   "id": "2614ed08",
   "metadata": {},
   "outputs": [
    {
     "data": {
      "image/png": "[encoded data removed]",
      "text/plain": [
       "<Figure size 640x480 with 1 Axes>"
      ]
     },
     "metadata": {},
     "output_type": "display_data"
    }
   ],
   "source": [
    "sns.barplot(data=perm_df[:10], x='value', y='feature');"
   ]
  },
  {
   "cell_type": "markdown",
   "id": "ac8302c5",
   "metadata": {},
   "source": [
    "- Для LightGBM наиболее важным оказался признак с номерами станций мониторинга качества воздуха"
   ]
  },
  {
   "cell_type": "code",
   "execution_count": 8,
   "id": "fd8f54ac",
   "metadata": {},
   "outputs": [
    {
     "name": "stderr",
     "output_type": "stream",
     "text": [
      "C:\\Users\\main6\\AppData\\Local\\Programs\\Python\\Python310\\lib\\site-packages\\catboost\\core.py:1411: FutureWarning: iteritems is deprecated and will be removed in a future version. Use .items instead.\n",
      "  self._init_pool(data, label, cat_features, text_features, embedding_features, embedding_features_data, pairs, weight,\n"
     ]
    }
   ],
   "source": [
    "perm_cb = permutation_importance(cb_opt,\n",
    "                                 X_test_ct,\n",
    "                                 y_test_ct,\n",
    "                                 random_state=RAND,\n",
    "                                 n_repeats=N_REPEATS)\n",
    "\n",
    "perm_df = pd.DataFrame({\n",
    "    'feature': list(X_test_ct.columns),\n",
    "    'value': perm_cb['importances_mean']\n",
    "}).sort_values(by='value', ascending=False)"
   ]
  },
  {
   "cell_type": "code",
   "execution_count": 9,
   "id": "41bf1f0a",
   "metadata": {},
   "outputs": [
    {
     "data": {
      "image/png": "[encoded data removed]",
      "text/plain": [
       "<Figure size 640x480 with 1 Axes>"
      ]
     },
     "metadata": {},
     "output_type": "display_data"
    }
   ],
   "source": [
    "sns.barplot(data=perm_df[:10], x='value', y='feature');"
   ]
  },
  {
   "cell_type": "markdown",
   "id": "66a79708",
   "metadata": {},
   "source": [
    "- Для CatBoost номера станции на втором месте по значимости, на первом концентрация оксида азота в стратосфере"
   ]
  },
  {
   "cell_type": "markdown",
   "id": "b701f098",
   "metadata": {},
   "source": [
    "В целом тремя главными признаками являются:\n",
    "- номер станции мониторинга воздуха\n",
    "- концентрация вещества в стратосвере\n",
    "- суммарная концентрация вещества"
   ]
  },
  {
   "cell_type": "markdown",
   "id": "44734e60",
   "metadata": {},
   "source": [
    "# Выводы"
   ]
  },
  {
   "cell_type": "markdown",
   "id": "2de62900",
   "metadata": {},
   "source": [
    "- В ходе работы был проведен разведочный анализ данных, произведена визулизация координат станций мониторинга оксида азота на карте, engineering признаков\n",
    "- Подготовленные данные были обучены в разного рода моделях, таких как Линейная регрессия, Дерево решений, Случайный лес, три вида градиентных бустингов\n",
    "- Предсказанные значения были оценены при помощи таблицы с метриками\n",
    "- анализ важных признаков показал, что оценка наземной концентрации вредного оксида боллее всего зависит от самой станции мониторига, а так же от стратосферной концентрации, что указывает на связь озонового слоя и оксида азота \n",
    "- наилучшая модель LightGBM с подобранными параметрами"
   ]
  }
 ],
 "metadata": {
  "kernelspec": {
   "display_name": "Python 3 (ipykernel)",
   "language": "python",
   "name": "python3"
  },
  "language_info": {
   "codemirror_mode": {
    "name": "ipython",
    "version": 3
   },
   "file_extension": ".py",
   "mimetype": "text/x-python",
   "name": "python",
   "nbconvert_exporter": "python",
   "pygments_lexer": "ipython3",
   "version": "3.10.11"
  },
  "toc": {
   "base_numbering": 1,
   "nav_menu": {},
   "number_sections": true,
   "sideBar": true,
   "skip_h1_title": false,
   "title_cell": "Table of Contents",
   "title_sidebar": "Contents",
   "toc_cell": false,
   "toc_position": {},
   "toc_section_display": true,
   "toc_window_display": false
  }
 },
 "nbformat": 4,
 "nbformat_minor": 5
}
